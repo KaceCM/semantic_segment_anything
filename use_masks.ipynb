{
 "cells": [
  {
   "cell_type": "code",
   "execution_count": null,
   "metadata": {},
   "outputs": [],
   "source": [
    "import os\n",
    "from diffusers.utils import load_image\n",
    "import json\n",
    "import torch\n",
    "from PIL import Image\n",
    "import numpy as np\n",
    "import matplotlib.pyplot as plt\n",
    "\n",
    "# input_path = \"./data/\"\n",
    "# output_path = \"./data_test/\"\n",
    "\n",
    "# filelist = [i for i in os.listdir(input_path) if i.endswith(\".jpg\")]\n",
    "# masklist = [i for i in os.listdir(output_path) if i.endswith(\".pt\")]\n",
    "# infolist = [i for i in os.listdir(output_path) if i.endswith(\"info.json\")]\n"
   ]
  },
  {
   "cell_type": "code",
   "execution_count": null,
   "metadata": {},
   "outputs": [],
   "source": [
    "from main_ssa import prepare_args, main\n",
    "\n",
    "args = prepare_args(\n",
    "    img_path=\"./data/1.jpg\",\n",
    "    data_path=None,\n",
    "    save_masks=True,\n",
    "    ckpt_path=\"./ckp/sam_vit_h_4b8939.pth\",\n",
    "    out_dir=\"./data_test/\",\n",
    "    save_img=True)"
   ]
  },
  {
   "cell_type": "markdown",
   "metadata": {},
   "source": [
    "### command\n",
    "\n",
    "python main_ssa.py --ckpt_path ./ckp/sam_vit_h_4b8939.pth --save_img --img_path ./data/1.jpg --out_dir ./data_test"
   ]
  },
  {
   "cell_type": "code",
   "execution_count": null,
   "metadata": {},
   "outputs": [],
   "source": [
    "def load_info(infopath):\n",
    "    with open(infopath, \"r\") as f:\n",
    "        info = json.load(f)\n",
    "    return info\n",
    "\n",
    "def load_mask(maskpath):\n",
    "    mask = torch.load(maskpath)\n",
    "    return mask\n",
    "\n"
   ]
  },
  {
   "cell_type": "code",
   "execution_count": null,
   "metadata": {},
   "outputs": [],
   "source": [
    "img = \"E:\\DEV\\Kandy\\KandyAIJob\\data\\ee53e64d-9ea3-4ce5-8d4c-e75c27c94e77\\jjj9b7ae-be31-4065-8c73-78930a6e0d3c3\\jjj9b7ae-be31-4065-8c73-78930a6e0d3c3.png\"\n",
    "mask = img.replace(\".png\", \"_semantic_masks.pt\")\n",
    "infopath = img.replace(\".png\", \"_info.json\")\n",
    "\n",
    "theimage = load_image(img)  # load_image returns a PIL Image\n",
    "masks = load_mask(mask)  # masks is a list of tensors\n",
    "info = load_info(infopath)  # info is a dictionary\n",
    "\n",
    "image_np = np.array(theimage)  # shape (H, W, 3), dtype uint8\n",
    "\n",
    "fig, ax = plt.subplots(figsize=(10,10))\n",
    "ax.imshow(image_np)\n",
    "ax.axis('off')\n",
    "\n",
    "color_rgb = [(255, 0, 0), (0, 255, 0), (0, 0, 255), (255, 255, 0), (0, 255, 255), (255, 0, 255), (255, 255, 255), (0, 0, 0), (255, 165, 0), (128, 0, 128)]\n",
    "color_name = [\"red\", \"green\", \"blue\", \"yellow\", \"cyan\", \"magenta\", \"white\", \"black\", \"orange\", \"purple\"]\n",
    "\n",
    "# Overlay each mask\n",
    "for i, m in enumerate(masks):\n",
    "    m_np = m.cpu().numpy()        # shape (H, W), values 0 or 1\n",
    "    H, W = m_np.shape\n",
    "\n",
    "    # pick a random RGB color\n",
    "    color = color_rgb[i%len(color_rgb)]\n",
    "    print(f\"{color_name[i%len(color_name)]} : {info['semantic_class_names'][i]}\")\n",
    "\n",
    "    # build an RGBA image where the mask pixels get that color+alpha\n",
    "    alpha = 0.4  # you can vary this per-mask if you like\n",
    "    overlay = np.zeros((H, W, 4), dtype=np.uint8)\n",
    "    overlay[..., :3] = color\n",
    "    overlay[...,  3] = (m_np * alpha * 255).astype(np.uint8)\n",
    "\n",
    "    ax.imshow(overlay, interpolation='none')\n",
    "\n",
    "plt.tight_layout()\n",
    "plt.show()"
   ]
  },
  {
   "cell_type": "code",
   "execution_count": null,
   "metadata": {},
   "outputs": [],
   "source": [
    "def find_mask_index(info, masks,maskname):\n",
    "    if maskname not in info[\"semantic_class_names\"]:\n",
    "        print(f\"Mask {maskname} not found in info\")\n",
    "        return None, None\n",
    "    mask_info = info[\"semantic_class_names\"].index(maskname)\n",
    "    mask= masks[mask_info]\n",
    "    return mask,mask_info"
   ]
  },
  {
   "cell_type": "code",
   "execution_count": null,
   "metadata": {},
   "outputs": [],
   "source": [
    "walls = info[\"semantic_class_names\"].index(\"windowpane\")\n",
    "walls_mask = masks[walls]\n",
    "\n",
    "# save the walls mask :\n",
    "# walls_mask_path = img.replace(\".png\", \"_wall_mask.png\")\n",
    "# Image.fromarray(walls_mask.cpu().numpy() * 255).save(walls_mask_path)"
   ]
  },
  {
   "cell_type": "code",
   "execution_count": null,
   "metadata": {},
   "outputs": [],
   "source": [
    "floor = info[\"semantic_class_names\"].index(\"door\")\n",
    "floor_mask = masks[floor]\n",
    "\n",
    "# floor_mask_path = img.replace(\".png\", \"_floor_mask.png\")\n",
    "# Image.fromarray(floor_mask.cpu().numpy() * 255).save(floor_mask_path)"
   ]
  },
  {
   "cell_type": "code",
   "execution_count": null,
   "metadata": {},
   "outputs": [],
   "source": [
    "ceiling = info[\"semantic_class_names\"].index(\"ceiling\")\n",
    "\n",
    "ceiling_mask = masks[ceiling]"
   ]
  },
  {
   "cell_type": "code",
   "execution_count": null,
   "metadata": {},
   "outputs": [
    {
     "ename": "",
     "evalue": "",
     "output_type": "error",
     "traceback": [
      "\u001b[1;31mThe Kernel crashed while executing code in the current cell or a previous cell. \n",
      "\u001b[1;31mPlease review the code in the cell(s) to identify a possible cause of the failure. \n",
      "\u001b[1;31mClick <a href='https://aka.ms/vscodeJupyterKernelCrash'>here</a> for more info. \n",
      "\u001b[1;31mView Jupyter <a href='command:jupyter.viewOutput'>log</a> for further details."
     ]
    }
   ],
   "source": [
    "# combine wall, floor and ceiling masks :\n",
    "combined_mask = walls_mask | floor_mask\n",
    "\n",
    "# save the combined mask :\n",
    "combined_mask_path = img.replace(\".png\", \"_combined_mask.png\")\n",
    "Image.fromarray(combined_mask.cpu().numpy() * 255) #.save(combined_mask_path)\n",
    "\n",
    "# invert the masks to change black to white and white to black\n",
    "inverted_mask = 1 - combined_mask\n",
    "Image.fromarray(inverted_mask.cpu().numpy() * 255).save(img.replace(\".png\", \"_inverted_mask.png\"))"
   ]
  },
  {
   "cell_type": "code",
   "execution_count": null,
   "metadata": {},
   "outputs": [],
   "source": [
    "for maskfile, infofile in zip(masklist, infolist):\n",
    "    print(infofile)\n",
    "    maskpath = \"../data/output/\" + maskfile\n",
    "    infopath = \"../data/output/\" + infofile\n",
    "    final_filename = infofile.replace(\"info.json\", \"\")\n",
    "    infos = load_info(infopath)\n",
    "    masks = load_mask(maskpath)\n",
    "    for element in [\"wall\", \"floor\", \"ceiling\", \"windowpane\"]:\n",
    "        mask, mask_info = find_mask_index(infos, masks, element)\n",
    "        if mask is not None and mask_info is not None:\n",
    "            mask_path = \"../data/output/\" + final_filename + element + \"_mask.png\"\n",
    "            try:\n",
    "                Image.fromarray(mask.cpu().numpy() * 255).save(mask_path)\n",
    "            except Exception as e:\n",
    "                print(\"error saving mask \", mask_path)\n",
    "                print(mask)\n",
    "                print(e)\n"
   ]
  }
 ],
 "metadata": {
  "kernelspec": {
   "display_name": "Python 3",
   "language": "python",
   "name": "python3"
  },
  "language_info": {
   "codemirror_mode": {
    "name": "ipython",
    "version": 3
   },
   "file_extension": ".py",
   "mimetype": "text/x-python",
   "name": "python",
   "nbconvert_exporter": "python",
   "pygments_lexer": "ipython3",
   "version": "3.12.1"
  }
 },
 "nbformat": 4,
 "nbformat_minor": 2
}
